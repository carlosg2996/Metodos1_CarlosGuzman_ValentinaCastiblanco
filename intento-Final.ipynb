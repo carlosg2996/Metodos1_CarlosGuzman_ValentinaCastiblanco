{
 "cells": [
  {
   "cell_type": "code",
   "execution_count": 161,
   "id": "8f02871a",
   "metadata": {},
   "outputs": [],
   "source": [
    "import numpy as np\n",
    "import matplotlib.pyplot as plt\n",
    "from itertools import permutations\n",
    "from itertools import combinations\n",
    "from itertools import combinations_with_replacement"
   ]
  },
  {
   "cell_type": "code",
   "execution_count": 162,
   "id": "9f2aa2ea",
   "metadata": {},
   "outputs": [],
   "source": [
    "PJ = np.array([0.5,0.5]) #probabilidad moneda justa (cara, sello)\n",
    "PB = np.array([0.9,0.1]) #probabilidad moneda sesgada (cara, sello)"
   ]
  },
  {
   "cell_type": "code",
   "execution_count": 163,
   "id": "6c8cf9a5",
   "metadata": {},
   "outputs": [
    {
     "data": {
      "text/plain": [
       "array([[0.8, 0.2],\n",
       "       [0.2, 0.8]])"
      ]
     },
     "execution_count": 163,
     "metadata": {},
     "output_type": "execute_result"
    }
   ],
   "source": [
    "#transicion\n",
    "T = np.array([[0.8,0.2],[0.2,0.8]])\n",
    "T"
   ]
  },
  {
   "cell_type": "code",
   "execution_count": 164,
   "id": "b5543420",
   "metadata": {},
   "outputs": [
    {
     "data": {
      "text/plain": [
       "array([[0.5, 0.9],\n",
       "       [0.5, 0.1]])"
      ]
     },
     "execution_count": 164,
     "metadata": {},
     "output_type": "execute_result"
    }
   ],
   "source": [
    "#Emision\n",
    "E = np.array([[0.5,0.9],[0.5,0.1]])\n",
    "E"
   ]
  },
  {
   "cell_type": "code",
   "execution_count": 165,
   "id": "6357c07f",
   "metadata": {},
   "outputs": [
    {
     "data": {
      "text/plain": [
       "8"
      ]
     },
     "execution_count": 165,
     "metadata": {},
     "output_type": "execute_result"
    }
   ],
   "source": [
    "o = np.array(['S','C','C','C','S','C','S','C'])\n",
    "obs = np.array([1,0,0,0,1,0,1,0])\n",
    "len(obs)"
   ]
  },
  {
   "cell_type": "markdown",
   "id": "6572f13b",
   "metadata": {},
   "source": [
    "Punto a"
   ]
  },
  {
   "cell_type": "code",
   "execution_count": 166,
   "id": "15451857",
   "metadata": {},
   "outputs": [],
   "source": [
    "prior = [0.2,0.8]\n",
    "States = [0,1]"
   ]
  },
  {
   "cell_type": "markdown",
   "id": "d5e4273b",
   "metadata": {},
   "source": [
    "Punto b"
   ]
  },
  {
   "cell_type": "code",
   "execution_count": 167,
   "id": "44355b76",
   "metadata": {},
   "outputs": [],
   "source": [
    "def GetHiddenStates(States, N):\n",
    "    \n",
    "    CStates = list( combinations_with_replacement(States,N) )\n",
    "    \n",
    "    Permu = []\n",
    "    \n",
    "    for it in CStates:\n",
    "        p = list(permutations(it,N))\n",
    "        \n",
    "        for i in p:\n",
    "            if i not in Permu:\n",
    "                Permu.append(i)\n",
    "    \n",
    "    print(CStates)\n",
    "    return np.array(Permu)"
   ]
  },
  {
   "cell_type": "code",
   "execution_count": 168,
   "id": "a7c1fd53",
   "metadata": {},
   "outputs": [
    {
     "name": "stdout",
     "output_type": "stream",
     "text": [
      "[(0, 0, 0, 0, 0, 0, 0, 0), (0, 0, 0, 0, 0, 0, 0, 1), (0, 0, 0, 0, 0, 0, 1, 1), (0, 0, 0, 0, 0, 1, 1, 1), (0, 0, 0, 0, 1, 1, 1, 1), (0, 0, 0, 1, 1, 1, 1, 1), (0, 0, 1, 1, 1, 1, 1, 1), (0, 1, 1, 1, 1, 1, 1, 1), (1, 1, 1, 1, 1, 1, 1, 1)]\n"
     ]
    },
    {
     "data": {
      "text/plain": [
       "array([[0, 0, 0, ..., 0, 0, 0],\n",
       "       [0, 0, 0, ..., 0, 0, 1],\n",
       "       [0, 0, 0, ..., 0, 1, 0],\n",
       "       ...,\n",
       "       [1, 1, 1, ..., 1, 0, 1],\n",
       "       [1, 1, 1, ..., 1, 1, 0],\n",
       "       [1, 1, 1, ..., 1, 1, 1]])"
      ]
     },
     "execution_count": 168,
     "metadata": {},
     "output_type": "execute_result"
    }
   ],
   "source": [
    "HiddenStates = GetHiddenStates(States,8)\n",
    "HiddenStates"
   ]
  },
  {
   "cell_type": "code",
   "execution_count": 169,
   "id": "494e6003",
   "metadata": {},
   "outputs": [],
   "source": [
    "def GetProb(T,E,obs,State,prior):\n",
    "    \n",
    "    n = len(obs)\n",
    "    p = 1.\n",
    "    \n",
    "    p *= prior[State[0] ]\n",
    "    \n",
    "    for i in range(n-1):\n",
    "        p *= T[State[i+1], State[i] ]\n",
    "    \n",
    "    \n",
    "    for i in range(n):\n",
    "        p *= E[ obs[i], State[i] ]\n",
    "        \n",
    "    #print(p, State)\n",
    "    \n",
    "    return p"
   ]
  },
  {
   "cell_type": "code",
   "execution_count": 170,
   "id": "931402c7",
   "metadata": {},
   "outputs": [
    {
     "name": "stdout",
     "output_type": "stream",
     "text": [
      "[1.63840000e-04 7.37280000e-05 2.04800000e-06 1.84320000e-05\n",
      " 2.04800000e-06 1.84320000e-05 1.84320000e-05 1.84320000e-05\n",
      " 3.27680000e-05 1.47456000e-05 8.29440000e-06 3.68640000e-06\n",
      " 9.21600000e-07 2.56000000e-08 3.68640000e-06 8.29440000e-06\n",
      " 2.30400000e-07 2.07360000e-06 3.68640000e-06 8.29440000e-06\n",
      " 2.30400000e-07 2.07360000e-06 2.30400000e-07 3.31776000e-05\n",
      " 8.29440000e-06 2.30400000e-07 2.07360000e-06 2.30400000e-07\n",
      " 2.07360000e-06 3.31776000e-05 1.47456000e-05 4.09600000e-07\n",
      " 3.68640000e-06 4.09600000e-07 3.68640000e-06 3.68640000e-06\n",
      " 5.89824000e-05 2.65420800e-05 1.84320000e-07 1.65888000e-06\n",
      " 7.37280000e-07 1.65888000e-06 9.33120000e-07 4.14720000e-07\n",
      " 1.65888000e-06 4.60800000e-08 6.63552000e-06 1.65888000e-06\n",
      " 9.33120000e-07 4.14720000e-07 1.03680000e-07 2.88000000e-09\n",
      " 4.14720000e-07 1.49299200e-05 4.14720000e-07 3.73248000e-06\n",
      " 6.63552000e-06 1.65888000e-06 9.33120000e-07 4.14720000e-07\n",
      " 1.03680000e-07 2.88000000e-09 4.14720000e-07 9.33120000e-07\n",
      " 2.59200000e-08 2.33280000e-07 4.14720000e-07 1.49299200e-05\n",
      " 4.14720000e-07 3.73248000e-06 4.14720000e-07 5.97196800e-05\n",
      " 2.94912000e-06 1.65888000e-06 7.37280000e-07 1.84320000e-07\n",
      " 5.12000000e-09 7.37280000e-07 1.65888000e-06 4.60800000e-08\n",
      " 4.14720000e-07 7.37280000e-07 1.65888000e-06 4.60800000e-08\n",
      " 4.14720000e-07 4.60800000e-08 6.63552000e-06 2.65420800e-05\n",
      " 7.37280000e-07 6.63552000e-06 7.37280000e-07 6.63552000e-06\n",
      " 1.06168320e-04 5.30841600e-06 2.98598400e-06 3.31776000e-07\n",
      " 2.98598400e-06 1.32710400e-06 2.98598400e-06 2.07360000e-08\n",
      " 1.86624000e-07 8.29440000e-08 2.98598400e-06 1.67961600e-06\n",
      " 7.46496000e-07 2.98598400e-06 8.29440000e-08 1.19439360e-05\n",
      " 2.98598400e-06 2.07360000e-08 1.86624000e-07 8.29440000e-08\n",
      " 1.86624000e-07 1.04976000e-07 4.66560000e-08 1.86624000e-07\n",
      " 5.18400000e-09 7.46496000e-07 2.98598400e-06 1.67961600e-06\n",
      " 7.46496000e-07 1.86624000e-07 5.18400000e-09 7.46496000e-07\n",
      " 2.68738560e-05 7.46496000e-07 6.71846400e-06 1.19439360e-05\n",
      " 5.30841600e-06 3.68640000e-08 3.31776000e-07 1.47456000e-07\n",
      " 3.31776000e-07 1.86624000e-07 8.29440000e-08 3.31776000e-07\n",
      " 9.21600000e-09 1.32710400e-06 3.31776000e-07 1.86624000e-07\n",
      " 8.29440000e-08 2.07360000e-08 5.76000000e-10 8.29440000e-08\n",
      " 2.98598400e-06 8.29440000e-08 7.46496000e-07 1.32710400e-06\n",
      " 5.30841600e-06 2.98598400e-06 1.32710400e-06 3.31776000e-07\n",
      " 9.21600000e-09 1.32710400e-06 2.98598400e-06 8.29440000e-08\n",
      " 7.46496000e-07 1.32710400e-06 4.77757440e-05 1.32710400e-06\n",
      " 1.19439360e-05 1.32710400e-06 1.91102976e-04 9.55514880e-06\n",
      " 5.97196800e-07 5.37477120e-06 5.97196800e-07 5.37477120e-06\n",
      " 2.38878720e-06 5.97196800e-07 3.35923200e-07 3.73248000e-08\n",
      " 3.35923200e-07 1.49299200e-07 5.37477120e-06 3.73248000e-08\n",
      " 3.35923200e-07 1.49299200e-07 5.37477120e-06 3.02330880e-06\n",
      " 1.34369280e-06 5.37477120e-06 1.49299200e-07 2.14990848e-05\n",
      " 1.06168320e-06 5.97196800e-07 6.63552000e-08 5.97196800e-07\n",
      " 2.65420800e-07 5.97196800e-07 4.14720000e-09 3.73248000e-08\n",
      " 1.65888000e-08 5.97196800e-07 3.35923200e-07 1.49299200e-07\n",
      " 5.97196800e-07 1.65888000e-08 2.38878720e-06 9.55514880e-06\n",
      " 6.63552000e-08 5.97196800e-07 2.65420800e-07 5.97196800e-07\n",
      " 3.35923200e-07 1.49299200e-07 5.97196800e-07 1.65888000e-08\n",
      " 2.38878720e-06 9.55514880e-06 5.37477120e-06 2.38878720e-06\n",
      " 5.97196800e-07 1.65888000e-08 2.38878720e-06 8.59963392e-05\n",
      " 2.38878720e-06 2.14990848e-05 3.82205952e-05 1.71992678e-05\n",
      " 1.07495424e-06 1.07495424e-06 9.67458816e-06 1.07495424e-06\n",
      " 9.67458816e-06 4.29981696e-06 1.91102976e-06 1.19439360e-07\n",
      " 1.07495424e-06 1.19439360e-07 1.07495424e-06 4.77757440e-07\n",
      " 1.91102976e-06 1.07495424e-06 1.19439360e-07 1.07495424e-06\n",
      " 4.77757440e-07 1.71992678e-05 1.19439360e-07 1.07495424e-06\n",
      " 4.77757440e-07 1.71992678e-05 9.67458816e-06 4.29981696e-06\n",
      " 1.71992678e-05 4.77757440e-07 6.87970714e-05 3.09586821e-05\n",
      " 3.43985357e-06 3.43985357e-06 3.43985357e-06 3.09586821e-05\n",
      " 3.43985357e-06 3.09586821e-05 1.37594143e-05 9.90677828e-05]\n"
     ]
    }
   ],
   "source": [
    "dim = HiddenStates.shape[0]\n",
    "P = np.zeros(dim)\n",
    "\n",
    "for i in range(dim):\n",
    "    P[i] = GetProb(T,E,obs,HiddenStates[i],prior)\n",
    "    \n",
    "print(P)"
   ]
  },
  {
   "cell_type": "markdown",
   "id": "ec200937",
   "metadata": {},
   "source": [
    "Punto c"
   ]
  },
  {
   "cell_type": "code",
   "execution_count": 171,
   "id": "64e7d218",
   "metadata": {},
   "outputs": [],
   "source": [
    "NObs = HiddenStates.shape[0]\n",
    "\n",
    "PObs = np.zeros(NObs)\n",
    "\n",
    "for j in range(NObs):\n",
    "    \n",
    "    dim = HiddenStates.shape[0]\n",
    "    P = np.zeros(dim)\n",
    "    \n",
    "    for i in range(dim):\n",
    "        P[i] = GetProb(T,E,HiddenStates[j],HiddenStates[i],prior)\n",
    "        \n",
    "    PObs[j] = np.sum(P)\n",
    "    \n",
    "    #Revisar HiddenStates[j],HiddenStates[i]"
   ]
  },
  {
   "cell_type": "code",
   "execution_count": 172,
   "id": "7a774d4a",
   "metadata": {},
   "outputs": [
    {
     "data": {
      "text/plain": [
       "array([0.13698241, 0.04114921, 0.0347373 , 0.03175272, 0.03026766,\n",
       "       0.02932288, 0.02830811, 0.02656789, 0.02297818, 0.01870516,\n",
       "       0.01330002, 0.01467809, 0.01079433, 0.01067359, 0.01276253,\n",
       "       0.00956961, 0.00877661, 0.00936674, 0.01172117, 0.00883478,\n",
       "       0.00776184, 0.00767971, 0.00853533, 0.01088136, 0.00811519,\n",
       "       0.00697382, 0.00661175, 0.00679511, 0.00764233, 0.00970066,\n",
       "       0.00694603, 0.00590355, 0.00547305, 0.00537647, 0.00555143,\n",
       "       0.00611094, 0.0074164 , 0.00955193, 0.00649319, 0.00616157,\n",
       "       0.00733671, 0.00505945, 0.00428819, 0.00497251, 0.00456283,\n",
       "       0.0048075 , 0.00623446, 0.00432462, 0.00337544, 0.00382959,\n",
       "       0.00321043, 0.00330316, 0.00416108, 0.00372302, 0.00355961,\n",
       "       0.00405611, 0.00553322, 0.00381405, 0.00283376, 0.00316972,\n",
       "       0.00249084, 0.00251514, 0.00309313, 0.00256378, 0.00241017,\n",
       "       0.0026765 , 0.00353481, 0.00309969, 0.00278698, 0.0028754 ,\n",
       "       0.00342205, 0.00478004, 0.00319794, 0.00231328, 0.00256666,\n",
       "       0.00193925, 0.00193444, 0.00234078, 0.00183427, 0.00170131,\n",
       "       0.00184945, 0.00237437, 0.00193054, 0.00171671, 0.0017367 ,\n",
       "       0.00200341, 0.00268914, 0.00229023, 0.00199057, 0.00192969,\n",
       "       0.00206826, 0.00249578, 0.00348841, 0.00497054, 0.0033236 ,\n",
       "       0.00304519, 0.00311076, 0.00376161, 0.00253029, 0.00206191,\n",
       "       0.00205278, 0.00246933, 0.0021158 , 0.0019167 , 0.00225856,\n",
       "       0.00220175, 0.00235363, 0.00310439, 0.0020782 , 0.00155134,\n",
       "       0.00151111, 0.00180946, 0.00141526, 0.00124957, 0.00146357,\n",
       "       0.0013954 , 0.00148394, 0.00194555, 0.00158206, 0.00129338,\n",
       "       0.00148593, 0.00131375, 0.00137119, 0.00175811, 0.00165634,\n",
       "       0.00160044, 0.00185224, 0.00257438, 0.00167529, 0.00118368,\n",
       "       0.00113585, 0.00135576, 0.00098913, 0.00085454, 0.00099563,\n",
       "       0.00093056, 0.0009849 , 0.00128408, 0.00096595, 0.00077289,\n",
       "       0.00088288, 0.00076216, 0.00079048, 0.00100575, 0.00092683,\n",
       "       0.00089159, 0.00102519, 0.00141394, 0.0010992 , 0.00083817,\n",
       "       0.00094468, 0.00076896, 0.00078459, 0.00097797, 0.00084688,\n",
       "       0.00080403, 0.00090653, 0.00122058, 0.00112224, 0.00101556,\n",
       "       0.00105958, 0.00128275, 0.00182922, 0.00256794, 0.00168142,\n",
       "       0.00152212, 0.00150379, 0.00155895, 0.00189063, 0.00122933,\n",
       "       0.00098331, 0.00094521, 0.0009748 , 0.00118099, 0.00098838,\n",
       "       0.00086356, 0.00087339, 0.001054  , 0.00095838, 0.00088149,\n",
       "       0.00104234, 0.00102894, 0.00110308, 0.00145974, 0.00091963,\n",
       "       0.00066712, 0.00062556, 0.00064202, 0.00077707, 0.00058547,\n",
       "       0.00049591, 0.00049813, 0.0006003 , 0.00053225, 0.00048646,\n",
       "       0.0005744 , 0.0005641 , 0.00060404, 0.00079827, 0.00062195,\n",
       "       0.00048718, 0.00048042, 0.00057676, 0.00047552, 0.00042628,\n",
       "       0.00050108, 0.00048415, 0.00051648, 0.00067961, 0.00057942,\n",
       "       0.00047945, 0.00055256, 0.00049484, 0.00051819, 0.00066708,\n",
       "       0.00063555, 0.00061546, 0.00071458, 0.00099692, 0.00129252,\n",
       "       0.00080697, 0.00071883, 0.00070371, 0.00070597, 0.00073395,\n",
       "       0.0008906 , 0.00053072, 0.00040913, 0.00038751, 0.00038632,\n",
       "       0.00040116, 0.00048667, 0.00039234, 0.00033728, 0.00032959,\n",
       "       0.00034098, 0.00041336, 0.00036815, 0.00032701, 0.0003319 ,\n",
       "       0.00040083, 0.00036912, 0.00034056, 0.00040299, 0.00039881,\n",
       "       0.00042778, 0.00056647, 0.00060902, 0.00033276, 0.00028253,\n",
       "       0.00027346, 0.00027216, 0.00027387, 0.00028489, 0.00034573,\n",
       "       0.00023643])"
      ]
     },
     "execution_count": 172,
     "metadata": {},
     "output_type": "execute_result"
    }
   ],
   "source": [
    "PObs"
   ]
  },
  {
   "cell_type": "markdown",
   "id": "f83f540b",
   "metadata": {},
   "source": [
    "Punto d"
   ]
  },
  {
   "cell_type": "code",
   "execution_count": 173,
   "id": "ad01340c",
   "metadata": {},
   "outputs": [
    {
     "data": {
      "text/plain": [
       "1.0000000000000007"
      ]
     },
     "execution_count": 173,
     "metadata": {},
     "output_type": "execute_result"
    }
   ],
   "source": [
    "np.sum(PObs)"
   ]
  },
  {
   "cell_type": "code",
   "execution_count": 176,
   "id": "a75eb976",
   "metadata": {},
   "outputs": [
    {
     "data": {
      "text/plain": [
       "0.00016384000000000008"
      ]
     },
     "execution_count": 176,
     "metadata": {},
     "output_type": "execute_result"
    }
   ],
   "source": [
    "maxP = np.max(P)\n",
    "maxP"
   ]
  },
  {
   "cell_type": "code",
   "execution_count": 177,
   "id": "8c32567c",
   "metadata": {},
   "outputs": [
    {
     "data": {
      "text/plain": [
       "[<matplotlib.lines.Line2D at 0xfb63d60>]"
      ]
     },
     "execution_count": 177,
     "metadata": {},
     "output_type": "execute_result"
    },
    {
     "data": {
      "image/png": "[encoded data removed]",
      "text/plain": [
       "<Figure size 432x288 with 1 Axes>"
      ]
     },
     "metadata": {
      "needs_background": "light"
     },
     "output_type": "display_data"
    }
   ],
   "source": [
    "plt.plot(P)"
   ]
  },
  {
   "cell_type": "code",
   "execution_count": null,
   "id": "fdce516a",
   "metadata": {},
   "outputs": [],
   "source": []
  }
 ],
 "metadata": {
  "kernelspec": {
   "display_name": "Python 3 (ipykernel)",
   "language": "python",
   "name": "python3"
  },
  "language_info": {
   "codemirror_mode": {
    "name": "ipython",
    "version": 3
   },
   "file_extension": ".py",
   "mimetype": "text/x-python",
   "name": "python",
   "nbconvert_exporter": "python",
   "pygments_lexer": "ipython3",
   "version": "3.9.12"
  }
 },
 "nbformat": 4,
 "nbformat_minor": 5
}
