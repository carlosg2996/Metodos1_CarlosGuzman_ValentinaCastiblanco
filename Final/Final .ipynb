{
 "cells": [
  {
   "cell_type": "code",
   "execution_count": 2,
   "id": "6731b4bf",
   "metadata": {},
   "outputs": [],
   "source": [
    "import numpy as np\n",
    "import matplotlib.pyplot as plt\n",
    "from itertools import permutations\n",
    "from itertools import combinations\n",
    "from itertools import combinations_with_replacement\n",
    "from tqdm import tqdm"
   ]
  },
  {
   "cell_type": "markdown",
   "id": "c97f9ea8",
   "metadata": {},
   "source": [
    "# Punto A"
   ]
  },
  {
   "cell_type": "code",
   "execution_count": 3,
   "id": "b195f6d0",
   "metadata": {},
   "outputs": [],
   "source": [
    "States = np.array([0,1]) \n",
    "Prior =  np.array([0.2,0.8])"
   ]
  },
  {
   "cell_type": "code",
   "execution_count": 4,
   "id": "3cb79f1f",
   "metadata": {},
   "outputs": [],
   "source": [
    "T = np.array([[0.8,0.2],[0.2,0.8]])\n",
    "\n",
    "E = np.array([[0.5,0.9],[0.5,0.1]])\n"
   ]
  },
  {
   "cell_type": "code",
   "execution_count": 5,
   "id": "2f0a8759",
   "metadata": {},
   "outputs": [
    {
     "data": {
      "text/plain": [
       "'Justa'"
      ]
     },
     "execution_count": 5,
     "metadata": {},
     "output_type": "execute_result"
    }
   ],
   "source": [
    "DictH = {0:'Justa',1:'Basiana'}\n",
    "DictH[0]"
   ]
  },
  {
   "cell_type": "code",
   "execution_count": 6,
   "id": "58c3e9a5",
   "metadata": {},
   "outputs": [
    {
     "data": {
      "text/plain": [
       "'Sello'"
      ]
     },
     "execution_count": 6,
     "metadata": {},
     "output_type": "execute_result"
    }
   ],
   "source": [
    "DictO = {0:'Cara',1:'Sello'}\n",
    "DictO[1]"
   ]
  },
  {
   "cell_type": "code",
   "execution_count": 7,
   "id": "eb0ea76a",
   "metadata": {},
   "outputs": [],
   "source": [
    "Obs = np.array([1,0,0,0,1,0,1,0])\n"
   ]
  },
  {
   "cell_type": "code",
   "execution_count": 8,
   "id": "598cb37c",
   "metadata": {},
   "outputs": [],
   "source": [
    "def GetHiddenStates(States, N):\n",
    "    \n",
    "    CStates = list( combinations_with_replacement(States,N) )\n",
    "    \n",
    "    Permu = []\n",
    "    \n",
    "    for it in CStates:\n",
    "        p = list(permutations(it,N))\n",
    "        \n",
    "        for i in p:\n",
    "            if i not in Permu:\n",
    "                Permu.append(i)\n",
    "    \n",
    "    print(CStates)\n",
    "    return np.array(Permu)"
   ]
  },
  {
   "cell_type": "code",
   "execution_count": 9,
   "id": "6b115da4",
   "metadata": {},
   "outputs": [
    {
     "name": "stdout",
     "output_type": "stream",
     "text": [
      "[(0, 0, 0, 0, 0, 0, 0, 0), (0, 0, 0, 0, 0, 0, 0, 1), (0, 0, 0, 0, 0, 0, 1, 1), (0, 0, 0, 0, 0, 1, 1, 1), (0, 0, 0, 0, 1, 1, 1, 1), (0, 0, 0, 1, 1, 1, 1, 1), (0, 0, 1, 1, 1, 1, 1, 1), (0, 1, 1, 1, 1, 1, 1, 1), (1, 1, 1, 1, 1, 1, 1, 1)]\n"
     ]
    },
    {
     "data": {
      "text/plain": [
       "array([[0, 0, 0, ..., 0, 0, 0],\n",
       "       [0, 0, 0, ..., 0, 0, 1],\n",
       "       [0, 0, 0, ..., 0, 1, 0],\n",
       "       ...,\n",
       "       [1, 1, 1, ..., 1, 0, 1],\n",
       "       [1, 1, 1, ..., 1, 1, 0],\n",
       "       [1, 1, 1, ..., 1, 1, 1]])"
      ]
     },
     "execution_count": 9,
     "metadata": {},
     "output_type": "execute_result"
    }
   ],
   "source": [
    "HiddenStates = GetHiddenStates(States,8)\n",
    "HiddenStates"
   ]
  },
  {
   "cell_type": "code",
   "execution_count": 10,
   "id": "25881959",
   "metadata": {},
   "outputs": [],
   "source": [
    "def GetProb(T,E,Obs,State,Prior):\n",
    "    \n",
    "    n = len(Obs)\n",
    "    p = 1.\n",
    "    \n",
    "    p *= Prior[State[0] ]\n",
    "    \n",
    "    for i in range(n-1):\n",
    "        p *= T[ State[i+1], State[i] ]\n",
    "    \n",
    "    \n",
    "    \n",
    "    for i in range(n):\n",
    "        p *= E[ Obs[i], State[i] ]\n",
    "        \n",
    "    \n",
    "    \n",
    "    return p"
   ]
  },
  {
   "cell_type": "markdown",
   "id": "dbf84e2d",
   "metadata": {},
   "source": [
    "# Punto B"
   ]
  },
  {
   "cell_type": "code",
   "execution_count": 11,
   "id": "b649da10",
   "metadata": {},
   "outputs": [],
   "source": [
    "dim = HiddenStates.shape[0]\n",
    "P = np.zeros(dim)\n",
    "\n",
    "for i in range(dim):\n",
    "    P[i] = GetProb(T,E,Obs,HiddenStates[i],Prior)\n",
    "    \n",
    "\n"
   ]
  },
  {
   "cell_type": "code",
   "execution_count": 12,
   "id": "2bb19249",
   "metadata": {},
   "outputs": [
    {
     "name": "stdout",
     "output_type": "stream",
     "text": [
      "[[1 1 1 1 0 0 0 0]] 0.0001911029760000001\n"
     ]
    }
   ],
   "source": [
    "\n",
    "maxP = np.max(P)\n",
    "ii = np.where( P == np.amax(P))\n",
    "print(HiddenStates[ii],maxP)"
   ]
  },
  {
   "cell_type": "code",
   "execution_count": 13,
   "id": "cc01982f",
   "metadata": {},
   "outputs": [
    {
     "data": {
      "image/png": "[encoded data removed]",
      "text/plain": [
       "<Figure size 432x288 with 1 Axes>"
      ]
     },
     "metadata": {
      "needs_background": "light"
     },
     "output_type": "display_data"
    }
   ],
   "source": [
    "plt.plot(P,color='b', label = 'Probabilidad del estado observable')\n",
    "plt.axhline(y=maxP, c='r')\n",
    "plt.grid()"
   ]
  },
  {
   "cell_type": "code",
   "execution_count": 14,
   "id": "5d34a08a",
   "metadata": {},
   "outputs": [
    {
     "name": "stdout",
     "output_type": "stream",
     "text": [
      "[(0, 0, 0, 0, 0, 0, 0, 0), (0, 0, 0, 0, 0, 0, 0, 1), (0, 0, 0, 0, 0, 0, 1, 1), (0, 0, 0, 0, 0, 1, 1, 1), (0, 0, 0, 0, 1, 1, 1, 1), (0, 0, 0, 1, 1, 1, 1, 1), (0, 0, 1, 1, 1, 1, 1, 1), (0, 1, 1, 1, 1, 1, 1, 1), (1, 1, 1, 1, 1, 1, 1, 1)]\n"
     ]
    }
   ],
   "source": [
    "ObsStates = GetHiddenStates([0,1],8)"
   ]
  },
  {
   "cell_type": "code",
   "execution_count": 15,
   "id": "ac9f1c41",
   "metadata": {},
   "outputs": [],
   "source": [
    "NObs = ObsStates.shape[0]\n",
    "\n",
    "PObs = np.zeros(NObs)\n",
    "\n",
    "for j in range(NObs):\n",
    "    \n",
    "    dim = HiddenStates.shape[0]\n",
    "    P = np.zeros(dim)\n",
    "    \n",
    "    for i in range(dim):\n",
    "        P[i] = GetProb(T,E,ObsStates[j],HiddenStates[i],Prior)\n",
    "        \n",
    "    PObs[j] = np.sum(P)"
   ]
  },
  {
   "cell_type": "markdown",
   "id": "9e707cd9",
   "metadata": {},
   "source": [
    "# Punto C"
   ]
  },
  {
   "cell_type": "code",
   "execution_count": 16,
   "id": "36390fef",
   "metadata": {},
   "outputs": [
    {
     "name": "stdout",
     "output_type": "stream",
     "text": [
      "[[0 0 0 0 0 0 0 0]] 0.13698241367042568\n"
     ]
    }
   ],
   "source": [
    "\n",
    "maxPObs= np.max(PObs)\n",
    "ii = np.where( PObs == np.amax(PObs))\n",
    "print(ObsStates[ii],maxPObs)"
   ]
  },
  {
   "cell_type": "code",
   "execution_count": 17,
   "id": "f65abc9e",
   "metadata": {},
   "outputs": [
    {
     "data": {
      "image/png": "[encoded data removed]",
      "text/plain": [
       "<Figure size 432x288 with 1 Axes>"
      ]
     },
     "metadata": {
      "needs_background": "light"
     },
     "output_type": "display_data"
    }
   ],
   "source": [
    "plt.plot(PObs, c='b', label = 'Probabilidad de cada estado observable')\n",
    "plt.axhline(y=maxPObs, c='r')\n",
    "plt.grid()"
   ]
  },
  {
   "cell_type": "markdown",
   "id": "a3ebad6f",
   "metadata": {},
   "source": [
    "Este resultado es mayor a 1 debido a errores computacionales, como puede ser el error de truncamiento que lo pone ligeramente por encima de 1."
   ]
  },
  {
   "cell_type": "code",
   "execution_count": 18,
   "id": "6ec20821",
   "metadata": {},
   "outputs": [
    {
     "name": "stdout",
     "output_type": "stream",
     "text": [
      "1.0000000000000007\n"
     ]
    }
   ],
   "source": [
    "print(np.sum(PObs))"
   ]
  },
  {
   "cell_type": "markdown",
   "id": "ed8cf1bc",
   "metadata": {},
   "source": [
    "# Punto E"
   ]
  },
  {
   "cell_type": "markdown",
   "id": "ced5a828",
   "metadata": {},
   "source": [
    "En este caso, si depende del valor a priori, ya que si llegamos a cambiar ligermante estos valores nuestros analisis y resultados cambiarian significativamente"
   ]
  },
  {
   "cell_type": "code",
   "execution_count": 19,
   "id": "5bf95125",
   "metadata": {},
   "outputs": [],
   "source": [
    "Prior =  np.array([0.3,0.7])\n",
    "T = np.array([[0.7,0.3],[0.3,0.7]])"
   ]
  },
  {
   "cell_type": "code",
   "execution_count": 20,
   "id": "6b0dfb58",
   "metadata": {},
   "outputs": [],
   "source": [
    "dim = HiddenStates.shape[0]\n",
    "Pnew = np.zeros(dim)\n",
    "\n",
    "for i in range(dim):\n",
    "    Pnew[i] = GetProb(T,E,Obs,HiddenStates[i],Prior)"
   ]
  },
  {
   "cell_type": "code",
   "execution_count": 21,
   "id": "d4fefddc",
   "metadata": {},
   "outputs": [
    {
     "name": "stdout",
     "output_type": "stream",
     "text": [
      "[[0 0 0 0 0 0 0 0]] 0.00016384000000000008\n"
     ]
    }
   ],
   "source": [
    "maxP = np.max(P)\n",
    "ii = np.where( P == np.amax(P))\n",
    "print(HiddenStates[ii],maxP)"
   ]
  },
  {
   "cell_type": "code",
   "execution_count": 22,
   "id": "c4ea9c14",
   "metadata": {},
   "outputs": [
    {
     "data": {
      "image/png": "[encoded data removed]",
      "text/plain": [
       "<Figure size 432x288 with 1 Axes>"
      ]
     },
     "metadata": {
      "needs_background": "light"
     },
     "output_type": "display_data"
    }
   ],
   "source": [
    "plt.plot(P,color='b', label = 'Probabilidad del estado observable')\n",
    "plt.axhline(y=maxP, c='r')\n",
    "plt.grid()"
   ]
  },
  {
   "cell_type": "markdown",
   "id": "adfac93e",
   "metadata": {},
   "source": [
    "Lo anterior es lo que pasaria si llegaramos a cambiar los valores prior."
   ]
  },
  {
   "cell_type": "code",
   "execution_count": null,
   "id": "21bd357e",
   "metadata": {},
   "outputs": [],
   "source": []
  }
 ],
 "metadata": {
  "kernelspec": {
   "display_name": "Python 3 (ipykernel)",
   "language": "python",
   "name": "python3"
  },
  "language_info": {
   "codemirror_mode": {
    "name": "ipython",
    "version": 3
   },
   "file_extension": ".py",
   "mimetype": "text/x-python",
   "name": "python",
   "nbconvert_exporter": "python",
   "pygments_lexer": "ipython3",
   "version": "3.9.12"
  }
 },
 "nbformat": 4,
 "nbformat_minor": 5
}
